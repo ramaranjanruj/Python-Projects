{
 "cells": [
  {
   "cell_type": "markdown",
   "metadata": {},
   "source": [
    "Pandas Tutorial\n",
    "========\n",
    "In this notebook i will cover the basics of pandas. We first start by imprting pandas"
   ]
  },
  {
   "cell_type": "code",
   "execution_count": 64,
   "metadata": {
    "collapsed": true
   },
   "outputs": [],
   "source": [
    "import pandas as pd\n",
    "import numpy as np\n",
    "import random\n",
    "%matplotlib inline"
   ]
  },
  {
   "cell_type": "markdown",
   "metadata": {},
   "source": [
    "There are two types of data structures in pandas.\n",
    "* DataFrame\n",
    "* Series\n",
    "\n",
    "The next code snippet shows how to create a pandas object"
   ]
  },
  {
   "cell_type": "code",
   "execution_count": 12,
   "metadata": {
    "collapsed": false
   },
   "outputs": [],
   "source": [
    "years = pd.Series(np.array(range(2000, 2010)))\n",
    "years"
   ]
  },
  {
   "cell_type": "markdown",
   "metadata": {},
   "source": [
    "This is an example to create a pandas dataframe. We will use the random library to genrate random numbers"
   ]
  },
  {
   "cell_type": "code",
   "execution_count": 24,
   "metadata": {
    "collapsed": true
   },
   "outputs": [],
   "source": [
    "random.seed(100)\n",
    "Store_1 = [random.randint(500,1000) for i in range(10)]\n",
    "Store_2 = [random.randint(500,1000) for i in range(10)]"
   ]
  },
  {
   "cell_type": "markdown",
   "metadata": {},
   "source": [
    "Now that we have made the lists. We willl make the dataframes from the list objects"
   ]
  },
  {
   "cell_type": "code",
   "execution_count": 30,
   "metadata": {
    "collapsed": false
   },
   "outputs": [],
   "source": [
    "sales = pd.DataFrame({'year':years, 'Store_1':Store_1, 'Store_2':Store_2})"
   ]
  },
  {
   "cell_type": "markdown",
   "metadata": {},
   "source": [
    "### Selecting Columns of a dataframe\n"
   ]
  },
  {
   "cell_type": "code",
   "execution_count": 40,
   "metadata": {
    "collapsed": false
   },
   "outputs": [
    {
     "data": {
      "text/html": [
       "<div>\n",
       "<table border=\"1\" class=\"dataframe\">\n",
       "  <thead>\n",
       "    <tr style=\"text-align: right;\">\n",
       "      <th></th>\n",
       "      <th>Store_1</th>\n",
       "      <th>Store_2</th>\n",
       "    </tr>\n",
       "  </thead>\n",
       "  <tbody>\n",
       "    <tr>\n",
       "      <th>0</th>\n",
       "      <td>572</td>\n",
       "      <td>523</td>\n",
       "    </tr>\n",
       "    <tr>\n",
       "      <th>1</th>\n",
       "      <td>727</td>\n",
       "      <td>967</td>\n",
       "    </tr>\n",
       "    <tr>\n",
       "      <th>2</th>\n",
       "      <td>886</td>\n",
       "      <td>974</td>\n",
       "    </tr>\n",
       "    <tr>\n",
       "      <th>3</th>\n",
       "      <td>853</td>\n",
       "      <td>668</td>\n",
       "    </tr>\n",
       "    <tr>\n",
       "      <th>4</th>\n",
       "      <td>866</td>\n",
       "      <td>655</td>\n",
       "    </tr>\n",
       "    <tr>\n",
       "      <th>5</th>\n",
       "      <td>717</td>\n",
       "      <td>884</td>\n",
       "    </tr>\n",
       "    <tr>\n",
       "      <th>6</th>\n",
       "      <td>900</td>\n",
       "      <td>602</td>\n",
       "    </tr>\n",
       "    <tr>\n",
       "      <th>7</th>\n",
       "      <td>766</td>\n",
       "      <td>589</td>\n",
       "    </tr>\n",
       "    <tr>\n",
       "      <th>8</th>\n",
       "      <td>540</td>\n",
       "      <td>594</td>\n",
       "    </tr>\n",
       "    <tr>\n",
       "      <th>9</th>\n",
       "      <td>728</td>\n",
       "      <td>673</td>\n",
       "    </tr>\n",
       "  </tbody>\n",
       "</table>\n",
       "</div>"
      ],
      "text/plain": [
       "   Store_1  Store_2\n",
       "0      572      523\n",
       "1      727      967\n",
       "2      886      974\n",
       "3      853      668\n",
       "4      866      655\n",
       "5      717      884\n",
       "6      900      602\n",
       "7      766      589\n",
       "8      540      594\n",
       "9      728      673"
      ]
     },
     "execution_count": 40,
     "metadata": {},
     "output_type": "execute_result"
    }
   ],
   "source": [
    "sales['Store_1'] # Selects only the Store_1 column\n",
    "sales[['Store_1','Store_2']] # Selects multiple column by passing a list"
   ]
  },
  {
   "cell_type": "markdown",
   "metadata": {},
   "source": [
    "###  Selecting rows of a dataframe."
   ]
  },
  {
   "cell_type": "code",
   "execution_count": 41,
   "metadata": {
    "collapsed": false
   },
   "outputs": [
    {
     "data": {
      "text/html": [
       "<div>\n",
       "<table border=\"1\" class=\"dataframe\">\n",
       "  <thead>\n",
       "    <tr style=\"text-align: right;\">\n",
       "      <th></th>\n",
       "      <th>Store_1</th>\n",
       "      <th>Store_2</th>\n",
       "      <th>year</th>\n",
       "    </tr>\n",
       "  </thead>\n",
       "  <tbody>\n",
       "    <tr>\n",
       "      <th>0</th>\n",
       "      <td>572</td>\n",
       "      <td>523</td>\n",
       "      <td>2000</td>\n",
       "    </tr>\n",
       "    <tr>\n",
       "      <th>1</th>\n",
       "      <td>727</td>\n",
       "      <td>967</td>\n",
       "      <td>2001</td>\n",
       "    </tr>\n",
       "    <tr>\n",
       "      <th>2</th>\n",
       "      <td>886</td>\n",
       "      <td>974</td>\n",
       "      <td>2002</td>\n",
       "    </tr>\n",
       "    <tr>\n",
       "      <th>3</th>\n",
       "      <td>853</td>\n",
       "      <td>668</td>\n",
       "      <td>2003</td>\n",
       "    </tr>\n",
       "    <tr>\n",
       "      <th>4</th>\n",
       "      <td>866</td>\n",
       "      <td>655</td>\n",
       "      <td>2004</td>\n",
       "    </tr>\n",
       "    <tr>\n",
       "      <th>5</th>\n",
       "      <td>717</td>\n",
       "      <td>884</td>\n",
       "      <td>2005</td>\n",
       "    </tr>\n",
       "  </tbody>\n",
       "</table>\n",
       "</div>"
      ],
      "text/plain": [
       "   Store_1  Store_2  year\n",
       "0      572      523  2000\n",
       "1      727      967  2001\n",
       "2      886      974  2002\n",
       "3      853      668  2003\n",
       "4      866      655  2004\n",
       "5      717      884  2005"
      ]
     },
     "execution_count": 41,
     "metadata": {},
     "output_type": "execute_result"
    }
   ],
   "source": [
    "sales.loc[:5] # Filter based on index values\n",
    "# sales.iloc[:5] # Filer based on row numbers"
   ]
  },
  {
   "cell_type": "markdown",
   "metadata": {},
   "source": [
    "## Filtering"
   ]
  },
  {
   "cell_type": "code",
   "execution_count": 44,
   "metadata": {
    "collapsed": false
   },
   "outputs": [],
   "source": [
    "sales_500 = sales[sales['Store_1'] > 600]"
   ]
  },
  {
   "cell_type": "markdown",
   "metadata": {},
   "source": [
    "### Handling missing values"
   ]
  },
  {
   "cell_type": "code",
   "execution_count": 53,
   "metadata": {
    "collapsed": false
   },
   "outputs": [],
   "source": [
    "_2016 = pd.DataFrame([[653, 867, None]], columns=sales.columns)\n",
    "\n",
    "# Ignore_index = True makes the new addition as new index (10), False will make the new index as  0\n",
    "sales = sales.append(_2016, ignore_index=True) "
   ]
  },
  {
   "cell_type": "code",
   "execution_count": 56,
   "metadata": {
    "collapsed": false
   },
   "outputs": [
    {
     "data": {
      "text/html": [
       "<div>\n",
       "<table border=\"1\" class=\"dataframe\">\n",
       "  <thead>\n",
       "    <tr style=\"text-align: right;\">\n",
       "      <th></th>\n",
       "      <th>Store_1</th>\n",
       "      <th>Store_2</th>\n",
       "      <th>year</th>\n",
       "    </tr>\n",
       "  </thead>\n",
       "  <tbody>\n",
       "    <tr>\n",
       "      <th>0</th>\n",
       "      <td>False</td>\n",
       "      <td>False</td>\n",
       "      <td>False</td>\n",
       "    </tr>\n",
       "    <tr>\n",
       "      <th>1</th>\n",
       "      <td>False</td>\n",
       "      <td>False</td>\n",
       "      <td>False</td>\n",
       "    </tr>\n",
       "    <tr>\n",
       "      <th>2</th>\n",
       "      <td>False</td>\n",
       "      <td>False</td>\n",
       "      <td>False</td>\n",
       "    </tr>\n",
       "    <tr>\n",
       "      <th>3</th>\n",
       "      <td>False</td>\n",
       "      <td>False</td>\n",
       "      <td>False</td>\n",
       "    </tr>\n",
       "    <tr>\n",
       "      <th>4</th>\n",
       "      <td>False</td>\n",
       "      <td>False</td>\n",
       "      <td>False</td>\n",
       "    </tr>\n",
       "    <tr>\n",
       "      <th>5</th>\n",
       "      <td>False</td>\n",
       "      <td>False</td>\n",
       "      <td>False</td>\n",
       "    </tr>\n",
       "    <tr>\n",
       "      <th>6</th>\n",
       "      <td>False</td>\n",
       "      <td>False</td>\n",
       "      <td>False</td>\n",
       "    </tr>\n",
       "    <tr>\n",
       "      <th>7</th>\n",
       "      <td>False</td>\n",
       "      <td>False</td>\n",
       "      <td>False</td>\n",
       "    </tr>\n",
       "    <tr>\n",
       "      <th>8</th>\n",
       "      <td>False</td>\n",
       "      <td>False</td>\n",
       "      <td>False</td>\n",
       "    </tr>\n",
       "    <tr>\n",
       "      <th>9</th>\n",
       "      <td>False</td>\n",
       "      <td>False</td>\n",
       "      <td>False</td>\n",
       "    </tr>\n",
       "    <tr>\n",
       "      <th>10</th>\n",
       "      <td>True</td>\n",
       "      <td>False</td>\n",
       "      <td>False</td>\n",
       "    </tr>\n",
       "  </tbody>\n",
       "</table>\n",
       "</div>"
      ],
      "text/plain": [
       "   Store_1 Store_2   year\n",
       "0    False   False  False\n",
       "1    False   False  False\n",
       "2    False   False  False\n",
       "3    False   False  False\n",
       "4    False   False  False\n",
       "5    False   False  False\n",
       "6    False   False  False\n",
       "7    False   False  False\n",
       "8    False   False  False\n",
       "9    False   False  False\n",
       "10    True   False  False"
      ]
     },
     "execution_count": 56,
     "metadata": {},
     "output_type": "execute_result"
    }
   ],
   "source": [
    "nulls = sales.isnull()\n",
    "nulls"
   ]
  },
  {
   "cell_type": "markdown",
   "metadata": {},
   "source": [
    "### Handling missing values in pandas"
   ]
  },
  {
   "cell_type": "code",
   "execution_count": 61,
   "metadata": {
    "collapsed": true
   },
   "outputs": [],
   "source": [
    "drop_na = sales.dropna() # removes all rows that have missing values\n",
    "drop_na_all = sales.dropna(how='all') # removes the row only if it has all values missing\n",
    "fillna_ffill = sales.fillna(method='ffill') # Imputes mussing values with foeward fill method"
   ]
  },
  {
   "cell_type": "markdown",
   "metadata": {},
   "source": [
    "### The indexes"
   ]
  },
  {
   "cell_type": "code",
   "execution_count": 62,
   "metadata": {
    "collapsed": true
   },
   "outputs": [],
   "source": [
    "sales = sales.set_index('year') # Makes the year column as the index"
   ]
  },
  {
   "cell_type": "markdown",
   "metadata": {},
   "source": [
    "### Transposing the dataframe\n",
    "* data.stack()\n",
    "* data.unstack()\n",
    "* data.pivot()"
   ]
  },
  {
   "cell_type": "code",
   "execution_count": 70,
   "metadata": {
    "collapsed": false
   },
   "outputs": [
    {
     "data": {
      "text/plain": [
       "<matplotlib.axes._subplots.AxesSubplot at 0xdb671d0>"
      ]
     },
     "execution_count": 70,
     "metadata": {},
     "output_type": "execute_result"
    },
    {
     "data": {
      "image/png": "[encoded data removed]",
      "text/plain": [
       "<matplotlib.figure.Figure at 0xdb81748>"
      ]
     },
     "metadata": {},
     "output_type": "display_data"
    }
   ],
   "source": [
    "sales.plot() # We see that the indexes are not  properly labelled and are not in year format."
   ]
  },
  {
   "cell_type": "code",
   "execution_count": 81,
   "metadata": {
    "collapsed": false
   },
   "outputs": [
    {
     "data": {
      "text/plain": [
       "<matplotlib.axes._subplots.AxesSubplot at 0xe3297f0>"
      ]
     },
     "execution_count": 81,
     "metadata": {},
     "output_type": "execute_result"
    },
    {
     "data": {
      "image/png": "[encoded data removed]",
      "text/plain": [
       "<matplotlib.figure.Figure at 0xf148e10>"
      ]
     },
     "metadata": {},
     "output_type": "display_data"
    }
   ],
   "source": [
    "# You cannot name as sales.index in python, so the indexes are saved in sales index\n",
    "sales.index = pd.to_datetime(sales.index, format='%Y')\n",
    "sales.plot()"
   ]
  },
  {
   "cell_type": "code",
   "execution_count": 82,
   "metadata": {
    "collapsed": false
   },
   "outputs": [
    {
     "data": {
      "text/plain": [
       "<matplotlib.axes._subplots.AxesSubplot at 0xfadc0f0>"
      ]
     },
     "execution_count": 82,
     "metadata": {},
     "output_type": "execute_result"
    },
    {
     "data": {
      "image/png": "[encoded data removed]",
      "text/plain": [
       "<matplotlib.figure.Figure at 0xf461748>"
      ]
     },
     "metadata": {},
     "output_type": "display_data"
    }
   ],
   "source": [
    "sales.plot(kind = 'bar') # for making the bar plot"
   ]
  },
  {
   "cell_type": "markdown",
   "metadata": {},
   "source": [
    "### Advanced plottiing\n",
    "\n",
    "1. Using Vincent"
   ]
  },
  {
   "cell_type": "code",
   "execution_count": 85,
   "metadata": {
    "collapsed": false
   },
   "outputs": [
    {
     "data": {
      "text/html": [
       "\n",
       "           <script>\n",
       "               \n",
       "                function vct_load_lib(url, callback){\n",
       "                      if(typeof d3 !== 'undefined' &&\n",
       "                         url === 'http://d3js.org/d3.v3.min.js'){\n",
       "                        callback()\n",
       "                      }\n",
       "                      var s = document.createElement('script');\n",
       "                      s.src = url;\n",
       "                      s.async = true;\n",
       "                      s.onreadystatechange = s.onload = callback;\n",
       "                      s.onerror = function(){\n",
       "                        console.warn(\"failed to load library \" + url);\n",
       "                        };\n",
       "                      document.getElementsByTagName(\"head\")[0].appendChild(s);\n",
       "                };\n",
       "                var vincent_event = new CustomEvent(\n",
       "                  \"vincent_libs_loaded\",\n",
       "                  {bubbles: true, cancelable: true}\n",
       "                );\n",
       "                \n",
       "               function load_all_libs(){\n",
       "                  console.log('Loading Vincent libs...')\n",
       "                  vct_load_lib('http://d3js.org/d3.v3.min.js', function(){\n",
       "                  vct_load_lib('http://d3js.org/d3.geo.projection.v0.min.js', function(){\n",
       "                  vct_load_lib('http://wrobstory.github.io/d3-cloud/d3.layout.cloud.js', function(){\n",
       "                  vct_load_lib('http://wrobstory.github.io/vega/vega.v1.3.3.js', function(){\n",
       "                  window.dispatchEvent(vincent_event);\n",
       "                  });\n",
       "                  });\n",
       "                  });\n",
       "                  });\n",
       "               };\n",
       "               if(typeof define === \"function\" && define.amd){\n",
       "                    if (window['d3'] === undefined ||\n",
       "                        window['topojson'] === undefined){\n",
       "                        require.config(\n",
       "                            {paths: {\n",
       "                              d3: 'http://d3js.org/d3.v3.min',\n",
       "                              topojson: 'http://d3js.org/topojson.v1.min'\n",
       "                              }\n",
       "                            }\n",
       "                          );\n",
       "                        require([\"d3\"], function(d3){\n",
       "                            console.log('Loading Vincent from require.js...')\n",
       "                            window.d3 = d3;\n",
       "                            require([\"topojson\"], function(topojson){\n",
       "                                window.topojson = topojson;\n",
       "                                load_all_libs();\n",
       "                            });\n",
       "                        });\n",
       "                    } else {\n",
       "                        load_all_libs();\n",
       "                    };\n",
       "               }else{\n",
       "                    console.log('Require.js not found, loading manually...')\n",
       "                    load_all_libs();\n",
       "               };\n",
       "\n",
       "           </script>"
      ],
      "text/plain": [
       "<IPython.core.display.HTML object>"
      ]
     },
     "metadata": {},
     "output_type": "display_data"
    }
   ],
   "source": [
    "import vincent\n",
    "vincent.core.initialize_notebook()"
   ]
  },
  {
   "cell_type": "code",
   "execution_count": 88,
   "metadata": {
    "collapsed": false
   },
   "outputs": [
    {
     "ename": "AttributeError",
     "evalue": "'Line' object has no attribute 'update_vis'",
     "output_type": "error",
     "traceback": [
      "\u001b[1;31m---------------------------------------------------------------------------\u001b[0m",
      "\u001b[1;31mAttributeError\u001b[0m                            Traceback (most recent call last)",
      "\u001b[1;32m<ipython-input-88-a95e3b814a0c>\u001b[0m in \u001b[0;36m<module>\u001b[1;34m()\u001b[0m\n\u001b[0;32m      1\u001b[0m \u001b[0mbar\u001b[0m \u001b[1;33m=\u001b[0m \u001b[0mvincent\u001b[0m\u001b[1;33m.\u001b[0m\u001b[0mLine\u001b[0m\u001b[1;33m(\u001b[0m\u001b[0msales\u001b[0m\u001b[1;33m)\u001b[0m\u001b[1;33m\u001b[0m\u001b[0m\n\u001b[1;32m----> 2\u001b[1;33m \u001b[0mbar\u001b[0m\u001b[1;33m.\u001b[0m\u001b[0mupdate_vis\u001b[0m\u001b[1;33m(\u001b[0m\u001b[0mwidth\u001b[0m\u001b[1;33m=\u001b[0m\u001b[1;36m500\u001b[0m\u001b[1;33m,\u001b[0m \u001b[0mheight\u001b[0m\u001b[1;33m=\u001b[0m\u001b[1;36m300\u001b[0m\u001b[1;33m)\u001b[0m\u001b[1;33m\u001b[0m\u001b[0m\n\u001b[0m\u001b[0;32m      3\u001b[0m \u001b[0mbar\u001b[0m\u001b[1;33m.\u001b[0m\u001b[0mdisplay\u001b[0m\u001b[1;33m(\u001b[0m\u001b[1;33m)\u001b[0m\u001b[1;33m\u001b[0m\u001b[0m\n",
      "\u001b[1;31mAttributeError\u001b[0m: 'Line' object has no attribute 'update_vis'"
     ]
    }
   ],
   "source": [
    "# Line chart on vincent\n",
    "\n",
    "bar = vincent.Line(sales)\n",
    "bar.display()"
   ]
  },
  {
   "cell_type": "code",
   "execution_count": 89,
   "metadata": {
    "collapsed": false
   },
   "outputs": [
    {
     "data": {
      "text/html": [
       "<div id=\"vise6bcfd4fc4864828afc0fc92769546c2\"></div>\n",
       "<script>\n",
       "   ( function() {\n",
       "     var _do_plot = function() {\n",
       "       if (typeof vg === 'undefined') {\n",
       "         window.addEventListener('vincent_libs_loaded', _do_plot)\n",
       "         return;\n",
       "       }\n",
       "       vg.parse.spec({\"axes\": [{\"scale\": \"x\", \"type\": \"x\"}, {\"scale\": \"y\", \"type\": \"y\"}], \"data\": [{\"name\": \"table\", \"values\": [{\"col\": \"Store_1\", \"idx\": 946706400000, \"val\": 572.0}, {\"col\": \"Store_2\", \"idx\": 946706400000, \"val\": 523.0}, {\"col\": \"Store_1\", \"idx\": 978328800000, \"val\": 727.0}, {\"col\": \"Store_2\", \"idx\": 978328800000, \"val\": 967.0}, {\"col\": \"Store_1\", \"idx\": 1009864800000, \"val\": 886.0}, {\"col\": \"Store_2\", \"idx\": 1009864800000, \"val\": 974.0}, {\"col\": \"Store_1\", \"idx\": 1041400800000, \"val\": 853.0}, {\"col\": \"Store_2\", \"idx\": 1041400800000, \"val\": 668.0}, {\"col\": \"Store_1\", \"idx\": 1072936800000, \"val\": 866.0}, {\"col\": \"Store_2\", \"idx\": 1072936800000, \"val\": 655.0}, {\"col\": \"Store_1\", \"idx\": 1104559200000, \"val\": 717.0}, {\"col\": \"Store_2\", \"idx\": 1104559200000, \"val\": 884.0}, {\"col\": \"Store_1\", \"idx\": 1136095200000, \"val\": 900.0}, {\"col\": \"Store_2\", \"idx\": 1136095200000, \"val\": 602.0}, {\"col\": \"Store_1\", \"idx\": 1167631200000, \"val\": 766.0}, {\"col\": \"Store_2\", \"idx\": 1167631200000, \"val\": 589.0}, {\"col\": \"Store_1\", \"idx\": 1199167200000, \"val\": 540.0}, {\"col\": \"Store_2\", \"idx\": 1199167200000, \"val\": 594.0}, {\"col\": \"Store_1\", \"idx\": 1230789600000, \"val\": 728.0}, {\"col\": \"Store_2\", \"idx\": 1230789600000, \"val\": 673.0}]}, {\"name\": \"stats\", \"source\": \"table\", \"transform\": [{\"keys\": [\"data.idx\"], \"type\": \"facet\"}, {\"type\": \"stats\", \"value\": \"data.val\"}]}], \"height\": 500, \"legends\": [], \"marks\": [{\"from\": {\"data\": \"table\", \"transform\": [{\"keys\": [\"data.col\"], \"type\": \"facet\"}, {\"height\": \"data.val\", \"point\": \"data.idx\", \"type\": \"stack\"}]}, \"marks\": [{\"properties\": {\"enter\": {\"fill\": {\"field\": \"data.col\", \"scale\": \"color\"}, \"interpolate\": {\"value\": \"monotone\"}, \"x\": {\"field\": \"data.idx\", \"scale\": \"x\"}, \"y\": {\"field\": \"y\", \"scale\": \"y\"}, \"y2\": {\"field\": \"y2\", \"scale\": \"y\"}}}, \"type\": \"area\"}], \"type\": \"group\"}], \"padding\": \"auto\", \"scales\": [{\"domain\": {\"data\": \"table\", \"field\": \"data.idx\"}, \"name\": \"x\", \"range\": \"width\", \"type\": \"time\", \"zero\": false}, {\"domain\": {\"data\": \"stats\", \"field\": \"sum\"}, \"name\": \"y\", \"nice\": true, \"range\": \"height\"}, {\"domain\": {\"data\": \"table\", \"field\": \"data.col\"}, \"name\": \"color\", \"range\": \"category20\", \"type\": \"ordinal\"}], \"width\": 960}, function(chart) {\n",
       "         chart({el: \"#vise6bcfd4fc4864828afc0fc92769546c2\"}).update();\n",
       "       });\n",
       "     };\n",
       "     _do_plot();\n",
       "   })();\n",
       "</script>\n",
       "<style>.vega canvas {width: 100%;}</style>\n",
       "        "
      ],
      "text/plain": [
       "<IPython.core.display.HTML object>"
      ]
     },
     "metadata": {},
     "output_type": "display_data"
    }
   ],
   "source": [
    "# Area Chart on vincent\n",
    "\n",
    "area = vincent.Area(sales)\n",
    "area.display()"
   ]
  },
  {
   "cell_type": "markdown",
   "metadata": {},
   "source": [
    "#### Bokeh plotting library"
   ]
  },
  {
   "cell_type": "code",
   "execution_count": 94,
   "metadata": {
    "collapsed": false
   },
   "outputs": [
    {
     "name": "stdout",
     "output_type": "stream",
     "text": [
      "Wrote bokeh.html\n"
     ]
    }
   ],
   "source": [
    "from bokeh import charts\n",
    "charts.Line(sales, xscale = 'datetime', filename = \"bokeh.html\").show()"
   ]
  },
  {
   "cell_type": "markdown",
   "metadata": {},
   "source": [
    "### Doing some analysis on real world data"
   ]
  },
  {
   "cell_type": "code",
   "execution_count": 104,
   "metadata": {
    "collapsed": true
   },
   "outputs": [],
   "source": [
    "mildata = pd.read_excel('SIPRI Milex data 1988-2013 plus.xlsx', sheetname='Current USD',\n",
    "                        skiprows=5, na_values=['. .', 'xxx'], skip_footer=7)"
   ]
  },
  {
   "cell_type": "code",
   "execution_count": 106,
   "metadata": {
    "collapsed": false
   },
   "outputs": [
    {
     "name": "stdout",
     "output_type": "stream",
     "text": [
      "(186, 28)\n"
     ]
    }
   ],
   "source": [
    "# Check rows in the data frame\n",
    "print mildata.shape"
   ]
  },
  {
   "cell_type": "code",
   "execution_count": 107,
   "metadata": {
    "collapsed": false
   },
   "outputs": [
    {
     "data": {
      "text/html": [
       "<div>\n",
       "<table border=\"1\" class=\"dataframe\">\n",
       "  <thead>\n",
       "    <tr style=\"text-align: right;\">\n",
       "      <th></th>\n",
       "      <th>Country</th>\n",
       "      <th>Notes</th>\n",
       "      <th>1988</th>\n",
       "      <th>1989</th>\n",
       "      <th>1990</th>\n",
       "      <th>1991</th>\n",
       "      <th>1992</th>\n",
       "      <th>1993</th>\n",
       "      <th>1994</th>\n",
       "      <th>1995</th>\n",
       "      <th>...</th>\n",
       "      <th>2004</th>\n",
       "      <th>2005</th>\n",
       "      <th>2006</th>\n",
       "      <th>2007</th>\n",
       "      <th>2008</th>\n",
       "      <th>2009</th>\n",
       "      <th>2010</th>\n",
       "      <th>2011</th>\n",
       "      <th>2012</th>\n",
       "      <th>2013</th>\n",
       "    </tr>\n",
       "  </thead>\n",
       "  <tbody>\n",
       "    <tr>\n",
       "      <th>0</th>\n",
       "      <td>Africa</td>\n",
       "      <td>NaN</td>\n",
       "      <td>NaN</td>\n",
       "      <td>NaN</td>\n",
       "      <td>NaN</td>\n",
       "      <td>NaN</td>\n",
       "      <td>NaN</td>\n",
       "      <td>NaN</td>\n",
       "      <td>NaN</td>\n",
       "      <td>NaN</td>\n",
       "      <td>...</td>\n",
       "      <td>NaN</td>\n",
       "      <td>NaN</td>\n",
       "      <td>NaN</td>\n",
       "      <td>NaN</td>\n",
       "      <td>NaN</td>\n",
       "      <td>NaN</td>\n",
       "      <td>NaN</td>\n",
       "      <td>NaN</td>\n",
       "      <td>NaN</td>\n",
       "      <td>NaN</td>\n",
       "    </tr>\n",
       "    <tr>\n",
       "      <th>1</th>\n",
       "      <td>North Africa</td>\n",
       "      <td>NaN</td>\n",
       "      <td>NaN</td>\n",
       "      <td>NaN</td>\n",
       "      <td>NaN</td>\n",
       "      <td>NaN</td>\n",
       "      <td>NaN</td>\n",
       "      <td>NaN</td>\n",
       "      <td>NaN</td>\n",
       "      <td>NaN</td>\n",
       "      <td>...</td>\n",
       "      <td>NaN</td>\n",
       "      <td>NaN</td>\n",
       "      <td>NaN</td>\n",
       "      <td>NaN</td>\n",
       "      <td>NaN</td>\n",
       "      <td>NaN</td>\n",
       "      <td>NaN</td>\n",
       "      <td>NaN</td>\n",
       "      <td>NaN</td>\n",
       "      <td>NaN</td>\n",
       "    </tr>\n",
       "    <tr>\n",
       "      <th>2</th>\n",
       "      <td>Algeria</td>\n",
       "      <td>1</td>\n",
       "      <td>1029</td>\n",
       "      <td>854</td>\n",
       "      <td>904</td>\n",
       "      <td>565</td>\n",
       "      <td>1053</td>\n",
       "      <td>1277</td>\n",
       "      <td>1335</td>\n",
       "      <td>1235</td>\n",
       "      <td>...</td>\n",
       "      <td>2802</td>\n",
       "      <td>2925</td>\n",
       "      <td>3094</td>\n",
       "      <td>3946</td>\n",
       "      <td>5172</td>\n",
       "      <td>5281</td>\n",
       "      <td>5671</td>\n",
       "      <td>8652</td>\n",
       "      <td>9326</td>\n",
       "      <td>10402</td>\n",
       "    </tr>\n",
       "    <tr>\n",
       "      <th>3</th>\n",
       "      <td>Libya</td>\n",
       "      <td>‡ ¶ 2</td>\n",
       "      <td>NaN</td>\n",
       "      <td>NaN</td>\n",
       "      <td>NaN</td>\n",
       "      <td>NaN</td>\n",
       "      <td>NaN</td>\n",
       "      <td>NaN</td>\n",
       "      <td>NaN</td>\n",
       "      <td>NaN</td>\n",
       "      <td>...</td>\n",
       "      <td>685</td>\n",
       "      <td>691</td>\n",
       "      <td>614</td>\n",
       "      <td>639</td>\n",
       "      <td>1100</td>\n",
       "      <td>NaN</td>\n",
       "      <td>NaN</td>\n",
       "      <td>NaN</td>\n",
       "      <td>2991</td>\n",
       "      <td>NaN</td>\n",
       "    </tr>\n",
       "    <tr>\n",
       "      <th>4</th>\n",
       "      <td>Morocco</td>\n",
       "      <td>3</td>\n",
       "      <td>917</td>\n",
       "      <td>991</td>\n",
       "      <td>1070</td>\n",
       "      <td>1148</td>\n",
       "      <td>1229</td>\n",
       "      <td>1252</td>\n",
       "      <td>1365</td>\n",
       "      <td>1438</td>\n",
       "      <td>...</td>\n",
       "      <td>1938</td>\n",
       "      <td>2030</td>\n",
       "      <td>2134</td>\n",
       "      <td>2408</td>\n",
       "      <td>2945</td>\n",
       "      <td>3055</td>\n",
       "      <td>3161</td>\n",
       "      <td>3343</td>\n",
       "      <td>3402</td>\n",
       "      <td>4064</td>\n",
       "    </tr>\n",
       "  </tbody>\n",
       "</table>\n",
       "<p>5 rows × 28 columns</p>\n",
       "</div>"
      ],
      "text/plain": [
       "                          Country  Notes  1988  1989  1990  1991  1992  1993  \\\n",
       "0                          Africa    NaN   NaN   NaN   NaN   NaN   NaN   NaN   \n",
       "1                    North Africa    NaN   NaN   NaN   NaN   NaN   NaN   NaN   \n",
       "2  Algeria                             1  1029   854   904   565  1053  1277   \n",
       "3  Libya                           ‡ ¶ 2   NaN   NaN   NaN   NaN   NaN   NaN   \n",
       "4  Morocco                             3   917   991  1070  1148  1229  1252   \n",
       "\n",
       "   1994  1995  ...    2004  2005  2006  2007  2008  2009  2010  2011  2012  \\\n",
       "0   NaN   NaN  ...     NaN   NaN   NaN   NaN   NaN   NaN   NaN   NaN   NaN   \n",
       "1   NaN   NaN  ...     NaN   NaN   NaN   NaN   NaN   NaN   NaN   NaN   NaN   \n",
       "2  1335  1235  ...    2802  2925  3094  3946  5172  5281  5671  8652  9326   \n",
       "3   NaN   NaN  ...     685   691   614   639  1100   NaN   NaN   NaN  2991   \n",
       "4  1365  1438  ...    1938  2030  2134  2408  2945  3055  3161  3343  3402   \n",
       "\n",
       "    2013  \n",
       "0    NaN  \n",
       "1    NaN  \n",
       "2  10402  \n",
       "3    NaN  \n",
       "4   4064  \n",
       "\n",
       "[5 rows x 28 columns]"
      ]
     },
     "execution_count": 107,
     "metadata": {},
     "output_type": "execute_result"
    }
   ],
   "source": [
    "mildata.head()"
   ]
  },
  {
   "cell_type": "code",
   "execution_count": 116,
   "metadata": {
    "collapsed": false
   },
   "outputs": [],
   "source": [
    "newmil = mildata.dropna(inplace = False, how = 'all', subset=mildata.columns[mildata.columns != u'Country'])"
   ]
  },
  {
   "cell_type": "code",
   "execution_count": 117,
   "metadata": {
    "collapsed": false
   },
   "outputs": [
    {
     "data": {
      "text/html": [
       "<div>\n",
       "<table border=\"1\" class=\"dataframe\">\n",
       "  <thead>\n",
       "    <tr style=\"text-align: right;\">\n",
       "      <th></th>\n",
       "      <th>Country</th>\n",
       "      <th>Notes</th>\n",
       "      <th>1988</th>\n",
       "      <th>1989</th>\n",
       "      <th>1990</th>\n",
       "      <th>1991</th>\n",
       "      <th>1992</th>\n",
       "      <th>1993</th>\n",
       "      <th>1994</th>\n",
       "      <th>1995</th>\n",
       "      <th>...</th>\n",
       "      <th>2004</th>\n",
       "      <th>2005</th>\n",
       "      <th>2006</th>\n",
       "      <th>2007</th>\n",
       "      <th>2008</th>\n",
       "      <th>2009</th>\n",
       "      <th>2010</th>\n",
       "      <th>2011</th>\n",
       "      <th>2012</th>\n",
       "      <th>2013</th>\n",
       "    </tr>\n",
       "  </thead>\n",
       "  <tbody>\n",
       "    <tr>\n",
       "      <th>2</th>\n",
       "      <td>Algeria</td>\n",
       "      <td>1</td>\n",
       "      <td>1029.0</td>\n",
       "      <td>854.0</td>\n",
       "      <td>904.0</td>\n",
       "      <td>565.0</td>\n",
       "      <td>1053.0</td>\n",
       "      <td>1277.0</td>\n",
       "      <td>1335.0</td>\n",
       "      <td>1235.0</td>\n",
       "      <td>...</td>\n",
       "      <td>2802.0</td>\n",
       "      <td>2925.0</td>\n",
       "      <td>3094.0</td>\n",
       "      <td>3946.0</td>\n",
       "      <td>5172.0</td>\n",
       "      <td>5281</td>\n",
       "      <td>5671</td>\n",
       "      <td>8652</td>\n",
       "      <td>9326.0</td>\n",
       "      <td>10402.0</td>\n",
       "    </tr>\n",
       "    <tr>\n",
       "      <th>3</th>\n",
       "      <td>Libya</td>\n",
       "      <td>‡ ¶ 2</td>\n",
       "      <td>NaN</td>\n",
       "      <td>NaN</td>\n",
       "      <td>NaN</td>\n",
       "      <td>NaN</td>\n",
       "      <td>NaN</td>\n",
       "      <td>NaN</td>\n",
       "      <td>NaN</td>\n",
       "      <td>NaN</td>\n",
       "      <td>...</td>\n",
       "      <td>685.0</td>\n",
       "      <td>691.0</td>\n",
       "      <td>614.0</td>\n",
       "      <td>639.0</td>\n",
       "      <td>1100.0</td>\n",
       "      <td>NaN</td>\n",
       "      <td>NaN</td>\n",
       "      <td>NaN</td>\n",
       "      <td>2991.0</td>\n",
       "      <td>NaN</td>\n",
       "    </tr>\n",
       "    <tr>\n",
       "      <th>4</th>\n",
       "      <td>Morocco</td>\n",
       "      <td>3</td>\n",
       "      <td>917.0</td>\n",
       "      <td>991.0</td>\n",
       "      <td>1070.0</td>\n",
       "      <td>1148.0</td>\n",
       "      <td>1229.0</td>\n",
       "      <td>1252.0</td>\n",
       "      <td>1365.0</td>\n",
       "      <td>1438.0</td>\n",
       "      <td>...</td>\n",
       "      <td>1938.0</td>\n",
       "      <td>2030.0</td>\n",
       "      <td>2134.0</td>\n",
       "      <td>2408.0</td>\n",
       "      <td>2945.0</td>\n",
       "      <td>3055</td>\n",
       "      <td>3161</td>\n",
       "      <td>3343</td>\n",
       "      <td>3402.0</td>\n",
       "      <td>4064.0</td>\n",
       "    </tr>\n",
       "    <tr>\n",
       "      <th>5</th>\n",
       "      <td>Tunisia</td>\n",
       "      <td>NaN</td>\n",
       "      <td>233.0</td>\n",
       "      <td>234.0</td>\n",
       "      <td>248.0</td>\n",
       "      <td>260.0</td>\n",
       "      <td>290.0</td>\n",
       "      <td>276.0</td>\n",
       "      <td>297.0</td>\n",
       "      <td>343.0</td>\n",
       "      <td>...</td>\n",
       "      <td>445.0</td>\n",
       "      <td>468.0</td>\n",
       "      <td>497.0</td>\n",
       "      <td>491.0</td>\n",
       "      <td>579.0</td>\n",
       "      <td>565</td>\n",
       "      <td>571</td>\n",
       "      <td>715</td>\n",
       "      <td>814.0</td>\n",
       "      <td>948.0</td>\n",
       "    </tr>\n",
       "    <tr>\n",
       "      <th>7</th>\n",
       "      <td>Angola</td>\n",
       "      <td>‖ 4</td>\n",
       "      <td>NaN</td>\n",
       "      <td>NaN</td>\n",
       "      <td>NaN</td>\n",
       "      <td>1033.0</td>\n",
       "      <td>794.0</td>\n",
       "      <td>1774.0</td>\n",
       "      <td>NaN</td>\n",
       "      <td>234.0</td>\n",
       "      <td>...</td>\n",
       "      <td>818.0</td>\n",
       "      <td>1365.0</td>\n",
       "      <td>1970.0</td>\n",
       "      <td>2032.0</td>\n",
       "      <td>3164.0</td>\n",
       "      <td>3311</td>\n",
       "      <td>3501</td>\n",
       "      <td>3647</td>\n",
       "      <td>4145.0</td>\n",
       "      <td>6095.0</td>\n",
       "    </tr>\n",
       "    <tr>\n",
       "      <th>8</th>\n",
       "      <td>Benin</td>\n",
       "      <td>NaN</td>\n",
       "      <td>36.9</td>\n",
       "      <td>28.5</td>\n",
       "      <td>32.8</td>\n",
       "      <td>NaN</td>\n",
       "      <td>NaN</td>\n",
       "      <td>NaN</td>\n",
       "      <td>NaN</td>\n",
       "      <td>NaN</td>\n",
       "      <td>...</td>\n",
       "      <td>41.8</td>\n",
       "      <td>44.7</td>\n",
       "      <td>46.8</td>\n",
       "      <td>NaN</td>\n",
       "      <td>64.7</td>\n",
       "      <td>NaN</td>\n",
       "      <td>NaN</td>\n",
       "      <td>NaN</td>\n",
       "      <td>78.2</td>\n",
       "      <td>86.0</td>\n",
       "    </tr>\n",
       "    <tr>\n",
       "      <th>9</th>\n",
       "      <td>Botswana</td>\n",
       "      <td>NaN</td>\n",
       "      <td>93.7</td>\n",
       "      <td>103.0</td>\n",
       "      <td>156.0</td>\n",
       "      <td>172.0</td>\n",
       "      <td>178.0</td>\n",
       "      <td>186.0</td>\n",
       "      <td>170.0</td>\n",
       "      <td>166.0</td>\n",
       "      <td>...</td>\n",
       "      <td>314.0</td>\n",
       "      <td>284.0</td>\n",
       "      <td>273.0</td>\n",
       "      <td>306.0</td>\n",
       "      <td>332.0</td>\n",
       "      <td>330</td>\n",
       "      <td>349</td>\n",
       "      <td>370</td>\n",
       "      <td>333.0</td>\n",
       "      <td>298.0</td>\n",
       "    </tr>\n",
       "    <tr>\n",
       "      <th>10</th>\n",
       "      <td>Burkina Faso</td>\n",
       "      <td>†</td>\n",
       "      <td>47.0</td>\n",
       "      <td>55.2</td>\n",
       "      <td>69.8</td>\n",
       "      <td>57.4</td>\n",
       "      <td>58.6</td>\n",
       "      <td>49.8</td>\n",
       "      <td>25.0</td>\n",
       "      <td>30.5</td>\n",
       "      <td>...</td>\n",
       "      <td>57.3</td>\n",
       "      <td>63.8</td>\n",
       "      <td>70.9</td>\n",
       "      <td>95.2</td>\n",
       "      <td>123.0</td>\n",
       "      <td>110</td>\n",
       "      <td>124</td>\n",
       "      <td>139</td>\n",
       "      <td>146.0</td>\n",
       "      <td>163.0</td>\n",
       "    </tr>\n",
       "    <tr>\n",
       "      <th>11</th>\n",
       "      <td>Burundi</td>\n",
       "      <td>‡ 5</td>\n",
       "      <td>34.3</td>\n",
       "      <td>37.9</td>\n",
       "      <td>39.6</td>\n",
       "      <td>42.8</td>\n",
       "      <td>39.0</td>\n",
       "      <td>36.3</td>\n",
       "      <td>41.9</td>\n",
       "      <td>42.1</td>\n",
       "      <td>...</td>\n",
       "      <td>44.9</td>\n",
       "      <td>49.6</td>\n",
       "      <td>44.7</td>\n",
       "      <td>46.3</td>\n",
       "      <td>43.9</td>\n",
       "      <td>NaN</td>\n",
       "      <td>NaN</td>\n",
       "      <td>NaN</td>\n",
       "      <td>59.0</td>\n",
       "      <td>60.8</td>\n",
       "    </tr>\n",
       "    <tr>\n",
       "      <th>12</th>\n",
       "      <td>Cameroon</td>\n",
       "      <td>§</td>\n",
       "      <td>154.0</td>\n",
       "      <td>147.0</td>\n",
       "      <td>181.0</td>\n",
       "      <td>178.0</td>\n",
       "      <td>184.0</td>\n",
       "      <td>168.0</td>\n",
       "      <td>94.5</td>\n",
       "      <td>114.0</td>\n",
       "      <td>...</td>\n",
       "      <td>221.0</td>\n",
       "      <td>223.0</td>\n",
       "      <td>257.0</td>\n",
       "      <td>297.0</td>\n",
       "      <td>347.0</td>\n",
       "      <td>343</td>\n",
       "      <td>354</td>\n",
       "      <td>347</td>\n",
       "      <td>354.0</td>\n",
       "      <td>393.0</td>\n",
       "    </tr>\n",
       "  </tbody>\n",
       "</table>\n",
       "<p>10 rows × 28 columns</p>\n",
       "</div>"
      ],
      "text/plain": [
       "                           Country  Notes    1988   1989    1990    1991  \\\n",
       "2   Algeria                             1  1029.0  854.0   904.0   565.0   \n",
       "3   Libya                           ‡ ¶ 2     NaN    NaN     NaN     NaN   \n",
       "4   Morocco                             3   917.0  991.0  1070.0  1148.0   \n",
       "5   Tunisia                           NaN   233.0  234.0   248.0   260.0   \n",
       "7   Angola                            ‖ 4     NaN    NaN     NaN  1033.0   \n",
       "8   Benin                             NaN    36.9   28.5    32.8     NaN   \n",
       "9   Botswana                          NaN    93.7  103.0   156.0   172.0   \n",
       "10  Burkina Faso                        †    47.0   55.2    69.8    57.4   \n",
       "11  Burundi                           ‡ 5    34.3   37.9    39.6    42.8   \n",
       "12  Cameroon                            §   154.0  147.0   181.0   178.0   \n",
       "\n",
       "      1992    1993    1994    1995   ...       2004    2005    2006    2007  \\\n",
       "2   1053.0  1277.0  1335.0  1235.0   ...     2802.0  2925.0  3094.0  3946.0   \n",
       "3      NaN     NaN     NaN     NaN   ...      685.0   691.0   614.0   639.0   \n",
       "4   1229.0  1252.0  1365.0  1438.0   ...     1938.0  2030.0  2134.0  2408.0   \n",
       "5    290.0   276.0   297.0   343.0   ...      445.0   468.0   497.0   491.0   \n",
       "7    794.0  1774.0     NaN   234.0   ...      818.0  1365.0  1970.0  2032.0   \n",
       "8      NaN     NaN     NaN     NaN   ...       41.8    44.7    46.8     NaN   \n",
       "9    178.0   186.0   170.0   166.0   ...      314.0   284.0   273.0   306.0   \n",
       "10    58.6    49.8    25.0    30.5   ...       57.3    63.8    70.9    95.2   \n",
       "11    39.0    36.3    41.9    42.1   ...       44.9    49.6    44.7    46.3   \n",
       "12   184.0   168.0    94.5   114.0   ...      221.0   223.0   257.0   297.0   \n",
       "\n",
       "      2008  2009  2010  2011    2012     2013  \n",
       "2   5172.0  5281  5671  8652  9326.0  10402.0  \n",
       "3   1100.0   NaN   NaN   NaN  2991.0      NaN  \n",
       "4   2945.0  3055  3161  3343  3402.0   4064.0  \n",
       "5    579.0   565   571   715   814.0    948.0  \n",
       "7   3164.0  3311  3501  3647  4145.0   6095.0  \n",
       "8     64.7   NaN   NaN   NaN    78.2     86.0  \n",
       "9    332.0   330   349   370   333.0    298.0  \n",
       "10   123.0   110   124   139   146.0    163.0  \n",
       "11    43.9   NaN   NaN   NaN    59.0     60.8  \n",
       "12   347.0   343   354   347   354.0    393.0  \n",
       "\n",
       "[10 rows x 28 columns]"
      ]
     },
     "execution_count": 117,
     "metadata": {},
     "output_type": "execute_result"
    }
   ],
   "source": [
    "newmil.head(10)"
   ]
  },
  {
   "cell_type": "code",
   "execution_count": 120,
   "metadata": {
    "collapsed": false
   },
   "outputs": [
    {
     "data": {
      "text/html": [
       "<div>\n",
       "<table border=\"1\" class=\"dataframe\">\n",
       "  <thead>\n",
       "    <tr style=\"text-align: right;\">\n",
       "      <th></th>\n",
       "      <th>Country</th>\n",
       "      <th>Notes</th>\n",
       "      <th>1988</th>\n",
       "      <th>1989</th>\n",
       "      <th>1990</th>\n",
       "      <th>1991</th>\n",
       "      <th>1992</th>\n",
       "      <th>1993</th>\n",
       "      <th>1994</th>\n",
       "      <th>1995</th>\n",
       "      <th>...</th>\n",
       "      <th>2004</th>\n",
       "      <th>2005</th>\n",
       "      <th>2006</th>\n",
       "      <th>2007</th>\n",
       "      <th>2008</th>\n",
       "      <th>2009</th>\n",
       "      <th>2010</th>\n",
       "      <th>2011</th>\n",
       "      <th>2012</th>\n",
       "      <th>2013</th>\n",
       "    </tr>\n",
       "  </thead>\n",
       "  <tbody>\n",
       "  </tbody>\n",
       "</table>\n",
       "<p>0 rows × 28 columns</p>\n",
       "</div>"
      ],
      "text/plain": [
       "Empty DataFrame\n",
       "Columns: [Country, Notes, 1988, 1989, 1990, 1991, 1992, 1993, 1994, 1995, 1996, 1997, 1998, 1999, 2000, 2001, 2002, 2003, 2004, 2005, 2006, 2007, 2008, 2009, 2010, 2011, 2012, 2013]\n",
       "Index: []\n",
       "\n",
       "[0 rows x 28 columns]"
      ]
     },
     "execution_count": 120,
     "metadata": {},
     "output_type": "execute_result"
    }
   ],
   "source": [
    "newmil[newmil['Country'] == 'USA']"
   ]
  },
  {
   "cell_type": "code",
   "execution_count": 121,
   "metadata": {
    "collapsed": false
   },
   "outputs": [
    {
     "name": "stderr",
     "output_type": "stream",
     "text": [
      "C:\\Users\\rarroyave\\Anaconda2\\lib\\site-packages\\ipykernel\\__main__.py:2: SettingWithCopyWarning: \n",
      "A value is trying to be set on a copy of a slice from a DataFrame.\n",
      "Try using .loc[row_indexer,col_indexer] = value instead\n",
      "\n",
      "See the caveats in the documentation: http://pandas.pydata.org/pandas-docs/stable/indexing.html#indexing-view-versus-copy\n",
      "  from ipykernel import kernelapp as app\n"
     ]
    }
   ],
   "source": [
    "# Stripping all the white spaces in the country names\n",
    "newmil['Country'] = newmil['Country'].apply(lambda x: x.strip())"
   ]
  },
  {
   "cell_type": "code",
   "execution_count": 122,
   "metadata": {
    "collapsed": false
   },
   "outputs": [
    {
     "data": {
      "text/html": [
       "<div>\n",
       "<table border=\"1\" class=\"dataframe\">\n",
       "  <thead>\n",
       "    <tr style=\"text-align: right;\">\n",
       "      <th></th>\n",
       "      <th>Country</th>\n",
       "      <th>Notes</th>\n",
       "      <th>1988</th>\n",
       "      <th>1989</th>\n",
       "      <th>1990</th>\n",
       "      <th>1991</th>\n",
       "      <th>1992</th>\n",
       "      <th>1993</th>\n",
       "      <th>1994</th>\n",
       "      <th>1995</th>\n",
       "      <th>...</th>\n",
       "      <th>2004</th>\n",
       "      <th>2005</th>\n",
       "      <th>2006</th>\n",
       "      <th>2007</th>\n",
       "      <th>2008</th>\n",
       "      <th>2009</th>\n",
       "      <th>2010</th>\n",
       "      <th>2011</th>\n",
       "      <th>2012</th>\n",
       "      <th>2013</th>\n",
       "    </tr>\n",
       "  </thead>\n",
       "  <tbody>\n",
       "    <tr>\n",
       "      <th>71</th>\n",
       "      <td>USA</td>\n",
       "      <td>36</td>\n",
       "      <td>293093</td>\n",
       "      <td>304085</td>\n",
       "      <td>306170</td>\n",
       "      <td>280292</td>\n",
       "      <td>305141</td>\n",
       "      <td>297637</td>\n",
       "      <td>288059</td>\n",
       "      <td>278856</td>\n",
       "      <td>...</td>\n",
       "      <td>464676</td>\n",
       "      <td>503353</td>\n",
       "      <td>527660</td>\n",
       "      <td>556961</td>\n",
       "      <td>621131</td>\n",
       "      <td>668567</td>\n",
       "      <td>698180</td>\n",
       "      <td>711338</td>\n",
       "      <td>684780</td>\n",
       "      <td>640221</td>\n",
       "    </tr>\n",
       "  </tbody>\n",
       "</table>\n",
       "<p>1 rows × 28 columns</p>\n",
       "</div>"
      ],
      "text/plain": [
       "   Country Notes    1988    1989    1990    1991    1992    1993    1994  \\\n",
       "71     USA    36  293093  304085  306170  280292  305141  297637  288059   \n",
       "\n",
       "      1995   ...      2004    2005    2006    2007    2008    2009    2010  \\\n",
       "71  278856   ...    464676  503353  527660  556961  621131  668567  698180   \n",
       "\n",
       "      2011    2012    2013  \n",
       "71  711338  684780  640221  \n",
       "\n",
       "[1 rows x 28 columns]"
      ]
     },
     "execution_count": 122,
     "metadata": {},
     "output_type": "execute_result"
    }
   ],
   "source": [
    "newmil[newmil['Country'] == 'USA']"
   ]
  },
  {
   "cell_type": "code",
   "execution_count": 136,
   "metadata": {
    "collapsed": false
   },
   "outputs": [],
   "source": [
    "subframe = newmil[(newmil['Country'] == 'USA') | (newmil['Country'] == 'Sweden')]\n",
    "del subframe['Notes']"
   ]
  },
  {
   "cell_type": "code",
   "execution_count": 137,
   "metadata": {
    "collapsed": false
   },
   "outputs": [
    {
     "data": {
      "text/html": [
       "<div>\n",
       "<table border=\"1\" class=\"dataframe\">\n",
       "  <thead>\n",
       "    <tr style=\"text-align: right;\">\n",
       "      <th></th>\n",
       "      <th>Country</th>\n",
       "      <th>1988</th>\n",
       "      <th>1989</th>\n",
       "      <th>1990</th>\n",
       "      <th>1991</th>\n",
       "      <th>1992</th>\n",
       "      <th>1993</th>\n",
       "      <th>1994</th>\n",
       "      <th>1995</th>\n",
       "      <th>1996</th>\n",
       "      <th>...</th>\n",
       "      <th>2004</th>\n",
       "      <th>2005</th>\n",
       "      <th>2006</th>\n",
       "      <th>2007</th>\n",
       "      <th>2008</th>\n",
       "      <th>2009</th>\n",
       "      <th>2010</th>\n",
       "      <th>2011</th>\n",
       "      <th>2012</th>\n",
       "      <th>2013</th>\n",
       "    </tr>\n",
       "  </thead>\n",
       "  <tbody>\n",
       "    <tr>\n",
       "      <th>71</th>\n",
       "      <td>USA</td>\n",
       "      <td>293093</td>\n",
       "      <td>304085</td>\n",
       "      <td>306170</td>\n",
       "      <td>280292</td>\n",
       "      <td>305141</td>\n",
       "      <td>297637</td>\n",
       "      <td>288059</td>\n",
       "      <td>278856</td>\n",
       "      <td>271417</td>\n",
       "      <td>...</td>\n",
       "      <td>464676</td>\n",
       "      <td>503353</td>\n",
       "      <td>527660</td>\n",
       "      <td>556961</td>\n",
       "      <td>621131</td>\n",
       "      <td>668567</td>\n",
       "      <td>698180</td>\n",
       "      <td>711338</td>\n",
       "      <td>684780</td>\n",
       "      <td>640221</td>\n",
       "    </tr>\n",
       "    <tr>\n",
       "      <th>163</th>\n",
       "      <td>Sweden</td>\n",
       "      <td>4918</td>\n",
       "      <td>5033</td>\n",
       "      <td>6169</td>\n",
       "      <td>6219</td>\n",
       "      <td>6419</td>\n",
       "      <td>5011</td>\n",
       "      <td>5154</td>\n",
       "      <td>5730</td>\n",
       "      <td>6203</td>\n",
       "      <td>...</td>\n",
       "      <td>5515</td>\n",
       "      <td>5518</td>\n",
       "      <td>5577</td>\n",
       "      <td>6386</td>\n",
       "      <td>6025</td>\n",
       "      <td>5063</td>\n",
       "      <td>5886</td>\n",
       "      <td>6324</td>\n",
       "      <td>6239</td>\n",
       "      <td>6519</td>\n",
       "    </tr>\n",
       "  </tbody>\n",
       "</table>\n",
       "<p>2 rows × 27 columns</p>\n",
       "</div>"
      ],
      "text/plain": [
       "    Country    1988    1989    1990    1991    1992    1993    1994    1995  \\\n",
       "71      USA  293093  304085  306170  280292  305141  297637  288059  278856   \n",
       "163  Sweden    4918    5033    6169    6219    6419    5011    5154    5730   \n",
       "\n",
       "       1996   ...      2004    2005    2006    2007    2008    2009    2010  \\\n",
       "71   271417   ...    464676  503353  527660  556961  621131  668567  698180   \n",
       "163    6203   ...      5515    5518    5577    6386    6025    5063    5886   \n",
       "\n",
       "       2011    2012    2013  \n",
       "71   711338  684780  640221  \n",
       "163    6324    6239    6519  \n",
       "\n",
       "[2 rows x 27 columns]"
      ]
     },
     "execution_count": 137,
     "metadata": {},
     "output_type": "execute_result"
    }
   ],
   "source": [
    "subframe.head()"
   ]
  },
  {
   "cell_type": "code",
   "execution_count": 138,
   "metadata": {
    "collapsed": false
   },
   "outputs": [
    {
     "data": {
      "text/html": [
       "<div>\n",
       "<table border=\"1\" class=\"dataframe\">\n",
       "  <thead>\n",
       "    <tr style=\"text-align: right;\">\n",
       "      <th></th>\n",
       "      <th>1988</th>\n",
       "      <th>1989</th>\n",
       "      <th>1990</th>\n",
       "      <th>1991</th>\n",
       "      <th>1992</th>\n",
       "      <th>1993</th>\n",
       "      <th>1994</th>\n",
       "      <th>1995</th>\n",
       "      <th>1996</th>\n",
       "      <th>1997</th>\n",
       "      <th>...</th>\n",
       "      <th>2004</th>\n",
       "      <th>2005</th>\n",
       "      <th>2006</th>\n",
       "      <th>2007</th>\n",
       "      <th>2008</th>\n",
       "      <th>2009</th>\n",
       "      <th>2010</th>\n",
       "      <th>2011</th>\n",
       "      <th>2012</th>\n",
       "      <th>2013</th>\n",
       "    </tr>\n",
       "    <tr>\n",
       "      <th>Country</th>\n",
       "      <th></th>\n",
       "      <th></th>\n",
       "      <th></th>\n",
       "      <th></th>\n",
       "      <th></th>\n",
       "      <th></th>\n",
       "      <th></th>\n",
       "      <th></th>\n",
       "      <th></th>\n",
       "      <th></th>\n",
       "      <th></th>\n",
       "      <th></th>\n",
       "      <th></th>\n",
       "      <th></th>\n",
       "      <th></th>\n",
       "      <th></th>\n",
       "      <th></th>\n",
       "      <th></th>\n",
       "      <th></th>\n",
       "      <th></th>\n",
       "      <th></th>\n",
       "    </tr>\n",
       "  </thead>\n",
       "  <tbody>\n",
       "    <tr>\n",
       "      <th>USA</th>\n",
       "      <td>293093</td>\n",
       "      <td>304085</td>\n",
       "      <td>306170</td>\n",
       "      <td>280292</td>\n",
       "      <td>305141</td>\n",
       "      <td>297637</td>\n",
       "      <td>288059</td>\n",
       "      <td>278856</td>\n",
       "      <td>271417</td>\n",
       "      <td>276324</td>\n",
       "      <td>...</td>\n",
       "      <td>464676</td>\n",
       "      <td>503353</td>\n",
       "      <td>527660</td>\n",
       "      <td>556961</td>\n",
       "      <td>621131</td>\n",
       "      <td>668567</td>\n",
       "      <td>698180</td>\n",
       "      <td>711338</td>\n",
       "      <td>684780</td>\n",
       "      <td>640221</td>\n",
       "    </tr>\n",
       "    <tr>\n",
       "      <th>Sweden</th>\n",
       "      <td>4918</td>\n",
       "      <td>5033</td>\n",
       "      <td>6169</td>\n",
       "      <td>6219</td>\n",
       "      <td>6419</td>\n",
       "      <td>5011</td>\n",
       "      <td>5154</td>\n",
       "      <td>5730</td>\n",
       "      <td>6203</td>\n",
       "      <td>5203</td>\n",
       "      <td>...</td>\n",
       "      <td>5515</td>\n",
       "      <td>5518</td>\n",
       "      <td>5577</td>\n",
       "      <td>6386</td>\n",
       "      <td>6025</td>\n",
       "      <td>5063</td>\n",
       "      <td>5886</td>\n",
       "      <td>6324</td>\n",
       "      <td>6239</td>\n",
       "      <td>6519</td>\n",
       "    </tr>\n",
       "  </tbody>\n",
       "</table>\n",
       "<p>2 rows × 26 columns</p>\n",
       "</div>"
      ],
      "text/plain": [
       "           1988    1989    1990    1991    1992    1993    1994    1995  \\\n",
       "Country                                                                   \n",
       "USA      293093  304085  306170  280292  305141  297637  288059  278856   \n",
       "Sweden     4918    5033    6169    6219    6419    5011    5154    5730   \n",
       "\n",
       "           1996    1997   ...      2004    2005    2006    2007    2008  \\\n",
       "Country                   ...                                             \n",
       "USA      271417  276324   ...    464676  503353  527660  556961  621131   \n",
       "Sweden     6203    5203   ...      5515    5518    5577    6386    6025   \n",
       "\n",
       "           2009    2010    2011    2012    2013  \n",
       "Country                                          \n",
       "USA      668567  698180  711338  684780  640221  \n",
       "Sweden     5063    5886    6324    6239    6519  \n",
       "\n",
       "[2 rows x 26 columns]"
      ]
     },
     "execution_count": 138,
     "metadata": {},
     "output_type": "execute_result"
    }
   ],
   "source": [
    "subframe.set_index('Country', inplace=True)\n",
    "subframe.head()"
   ]
  },
  {
   "cell_type": "code",
   "execution_count": 139,
   "metadata": {
    "collapsed": false
   },
   "outputs": [
    {
     "data": {
      "text/plain": [
       "<matplotlib.axes._subplots.AxesSubplot at 0x10efa710>"
      ]
     },
     "execution_count": 139,
     "metadata": {},
     "output_type": "execute_result"
    },
    {
     "data": {
      "image/png": "[encoded data removed]",
      "text/plain": [
       "<matplotlib.figure.Figure at 0xf037c18>"
      ]
     },
     "metadata": {},
     "output_type": "display_data"
    }
   ],
   "source": [
    "subframe.plot()"
   ]
  },
  {
   "cell_type": "markdown",
   "metadata": {},
   "source": [
    "The above plot doesn't make any sense as the data is not transposed. We can transpose the data by the 'T' method. "
   ]
  },
  {
   "cell_type": "code",
   "execution_count": 144,
   "metadata": {
    "collapsed": false
   },
   "outputs": [
    {
     "data": {
      "text/plain": [
       "<matplotlib.axes._subplots.AxesSubplot at 0x1260da20>"
      ]
     },
     "execution_count": 144,
     "metadata": {},
     "output_type": "execute_result"
    },
    {
     "data": {
      "image/png": "[encoded data removed]",
      "text/plain": [
       "<matplotlib.figure.Figure at 0xf02e0b8>"
      ]
     },
     "metadata": {},
     "output_type": "display_data"
    }
   ],
   "source": [
    "subframe.T.plot() "
   ]
  },
  {
   "cell_type": "markdown",
   "metadata": {},
   "source": [
    "The military expenditure is so less compared to the US that it is not visible. We will change the scale to a log scale"
   ]
  },
  {
   "cell_type": "code",
   "execution_count": 145,
   "metadata": {
    "collapsed": false
   },
   "outputs": [
    {
     "data": {
      "text/plain": [
       "<matplotlib.axes._subplots.AxesSubplot at 0x127c5ef0>"
      ]
     },
     "execution_count": 145,
     "metadata": {},
     "output_type": "execute_result"
    },
    {
     "data": {
      "image/png": "[encoded data removed]",
      "text/plain": [
       "<matplotlib.figure.Figure at 0x129a1438>"
      ]
     },
     "metadata": {},
     "output_type": "display_data"
    }
   ],
   "source": [
    "subframe.T.plot(logy = True) "
   ]
  },
  {
   "cell_type": "code",
   "execution_count": null,
   "metadata": {
    "collapsed": true
   },
   "outputs": [],
   "source": []
  }
 ],
 "metadata": {
  "kernelspec": {
   "display_name": "Python 2",
   "language": "python",
   "name": "python2"
  },
  "language_info": {
   "codemirror_mode": {
    "name": "ipython",
    "version": 2
   },
   "file_extension": ".py",
   "mimetype": "text/x-python",
   "name": "python",
   "nbconvert_exporter": "python",
   "pygments_lexer": "ipython2",
   "version": "2.7.11"
  }
 },
 "nbformat": 4,
 "nbformat_minor": 0
}
